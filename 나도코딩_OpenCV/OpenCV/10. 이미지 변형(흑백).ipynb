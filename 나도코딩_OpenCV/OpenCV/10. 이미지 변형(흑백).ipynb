{
 "cells": [
  {
   "cell_type": "markdown",
   "id": "62ba4c8b",
   "metadata": {},
   "source": [
    "# 10. 이미지 변형(흑백)"
   ]
  },
  {
   "cell_type": "markdown",
   "id": "0ca37947",
   "metadata": {},
   "source": [
    "이미지를 흑백으로 읽음"
   ]
  },
  {
   "cell_type": "code",
   "execution_count": 4,
   "id": "86d0634e",
   "metadata": {},
   "outputs": [],
   "source": [
    "import cv2\n",
    "img = cv2.imread('img.jpg',cv2.IMREAD_GRAYSCALE)\n",
    "\n",
    "cv2.imshow('img',img)\n",
    "cv2.waitKey(0)\n",
    "cv2.destroyAllWindows()\n"
   ]
  },
  {
   "cell_type": "markdown",
   "id": "a30a5637",
   "metadata": {},
   "source": [
    "불러온 이미지를 흑백으로 변경"
   ]
  },
  {
   "cell_type": "code",
   "execution_count": 3,
   "id": "d058c717",
   "metadata": {},
   "outputs": [],
   "source": [
    "import cv2\n",
    "img = cv2.imread('img.jpg')\n",
    "\n",
    "dst = cv2.cvtColor(img,cv2.COLOR_BGR2GRAY)\n",
    "\n",
    "cv2.imshow('img',img)\n",
    "cv2.imshow('gray',dst)\n",
    "\n",
    "cv2.waitKey(0)\n",
    "cv2.destroyAllWindows()\n"
   ]
  }
 ],
 "metadata": {
  "kernelspec": {
   "display_name": "Python 3",
   "language": "python",
   "name": "python3"
  },
  "language_info": {
   "codemirror_mode": {
    "name": "ipython",
    "version": 3
   },
   "file_extension": ".py",
   "mimetype": "text/x-python",
   "name": "python",
   "nbconvert_exporter": "python",
   "pygments_lexer": "ipython3",
   "version": "3.8.5"
  }
 },
 "nbformat": 4,
 "nbformat_minor": 5
}
