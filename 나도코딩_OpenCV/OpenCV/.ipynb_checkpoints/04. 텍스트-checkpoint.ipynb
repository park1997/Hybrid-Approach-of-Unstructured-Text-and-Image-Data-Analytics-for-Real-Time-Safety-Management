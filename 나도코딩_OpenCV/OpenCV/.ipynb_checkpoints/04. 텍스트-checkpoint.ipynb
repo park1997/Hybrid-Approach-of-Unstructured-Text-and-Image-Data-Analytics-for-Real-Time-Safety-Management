{
 "cells": [
  {
   "cell_type": "markdown",
   "id": "4ab18b24",
   "metadata": {},
   "source": [
    "# 4. 텍스트"
   ]
  },
  {
   "cell_type": "markdown",
   "id": "6f4a319d",
   "metadata": {},
   "source": [
    "## OpenCV에서 사용하는 글꼴 종류\n",
    "1. cv2.FONT_HERSHEY_SIMPLEX : 보통크기의 산 세리프(sans-serif) 글꼴\n",
    "2. cv2.FONT_HERSHEY_PLAIN : 작은 크기의 산 세리프 글꼴\n",
    "3. cv2.FONT_HERSHEY_SCRIPT_SIMPLEX : 필기체 스타일 글꼴\n",
    "4. cv2.FONT_HERSHEY_TRIPLEX : 보통 크기의 세리프\n",
    "5. cv2.FONT_ITALIC : 기울임(이탤릭체)\n",
    "\n"
   ]
  },
  {
   "cell_type": "code",
   "execution_count": 8,
   "id": "ebed6935",
   "metadata": {},
   "outputs": [],
   "source": [
    "import numpy as np\n",
    "import cv2\n",
    "\n",
    "img = np.zeros((470,640,3),dtype = np.uint8)\n",
    "\n",
    "SCALE = 1\n",
    "COLOR = (255,255,255) # 흰색\n",
    "THICKNESS = 1\n",
    "\n",
    "cv2.putText(img,\"Nabo Simplex\",(20,50),cv2.FONT_HERSHEY_SIMPLEX ,SCALE,COLOR,THICKNESS)\n",
    "# 그릴위치, 텍스트 내용, 시작 위치, 폰트 종류, 크기 , 색깔 , 두께\n",
    "cv2.putText(img,\"Nabo Simplex\",(20,150),cv2.FONT_HERSHEY_PLAIN ,SCALE,COLOR,THICKNESS)\n",
    "cv2.putText(img,\"Nabo Simplex\",(20,250),cv2.FONT_HERSHEY_SCRIPT_SIMPLEX ,SCALE,COLOR,THICKNESS)\n",
    "cv2.putText(img,\"Nabo Simplex\",(20,350),cv2.FONT_HERSHEY_TRIPLEX ,SCALE,COLOR,THICKNESS)\n",
    "cv2.putText(img,\"Nabo Simplex\",(20,450),cv2.FONT_HERSHEY_TRIPLEX | cv2.FONT_ITALIC ,SCALE,COLOR,THICKNESS)\n",
    "\n",
    "\n",
    "cv2.imshow('img',img)\n",
    "cv2.waitKey(0)\n",
    "cv2.destroyAllWindows()"
   ]
  },
  {
   "cell_type": "markdown",
   "id": "9f8af9e1",
   "metadata": {},
   "source": [
    "## 한글"
   ]
  },
  {
   "cell_type": "code",
   "execution_count": 9,
   "id": "34ae6389",
   "metadata": {},
   "outputs": [],
   "source": [
    "import numpy as np\n",
    "import cv2\n",
    "\n",
    "img = np.zeros((470,640,3),dtype = np.uint8)\n",
    "\n",
    "SCALE = 1\n",
    "COLOR = (255,255,255) # 흰색\n",
    "THICKNESS = 1\n",
    "\n",
    "cv2.putText(img,\"나도 코딩\",(20,50),cv2.FONT_HERSHEY_SIMPLEX ,SCALE,COLOR,THICKNESS)\n",
    "# 그릴위치, 텍스트 내용, 시작 위치, 폰트 종류, 크기 , 색깔 , 두께\n",
    "\n",
    "cv2.imshow('img',img)\n",
    "cv2.waitKey(0)\n",
    "cv2.destroyAllWindows()"
   ]
  },
  {
   "cell_type": "markdown",
   "id": "19246004",
   "metadata": {},
   "source": [
    "## 한글 우회 방법"
   ]
  },
  {
   "cell_type": "code",
   "execution_count": null,
   "id": "db7842f7",
   "metadata": {},
   "outputs": [],
   "source": [
    "import numpy as np\n",
    "import cv2\n",
    "# PIL(Python Image Library)\n",
    "from PIL import ImageFont, ImageDraw,Image\n",
    "\n",
    "def myPutText(src,text,pos,font_size,font_color):\n",
    "    img_pil = Image.fromarray(src)\n",
    "    draw = ImageDraw.Draw(img_pil)\n",
    "    font = ImageFont.truetype('MaruBuriTTF/MaruBuri-Light.ttf', font_size)\n",
    "    draw.text(pos, text, font=font, fill=font_color)\n",
    "    return np.array(img_pil)\n",
    "\n",
    "img = np.zeros((470,640,3),dtype = np.uint8)\n",
    "\n",
    "FONT_SIZE = 100\n",
    "COLOR = (255,255,255) # 흰색\n",
    "THICKNESS = 1\n",
    "\n",
    "# cv2.putText(img,\"나도 코딩\",(20,50),cv2.FONT_HERSHEY_SIMPLEX ,SCALE,COLOR,THICKNESS)\n",
    "# 그릴위치, 텍스트 내용, 시작 위치, 폰트 종류, 크기 , 색깔 , 두께\n",
    "img = myPutText(img,\"나도코딩\",(20,50),FONT_SIZE,COLOR)\n",
    "\n",
    "\n",
    "cv2.imshow('img',img)\n",
    "cv2.waitKey(0)\n",
    "cv2.destroyAllWindows()"
   ]
  },
  {
   "cell_type": "code",
   "execution_count": 2,
   "id": "ca723f8a",
   "metadata": {},
   "outputs": [],
   "source": []
  },
  {
   "cell_type": "code",
   "execution_count": null,
   "id": "3ed65be6",
   "metadata": {},
   "outputs": [],
   "source": []
  }
 ],
 "metadata": {
  "kernelspec": {
   "display_name": "Python 3",
   "language": "python",
   "name": "python3"
  },
  "language_info": {
   "codemirror_mode": {
    "name": "ipython",
    "version": 3
   },
   "file_extension": ".py",
   "mimetype": "text/x-python",
   "name": "python",
   "nbconvert_exporter": "python",
   "pygments_lexer": "ipython3",
   "version": "3.8.5"
  }
 },
 "nbformat": 4,
 "nbformat_minor": 5
}
