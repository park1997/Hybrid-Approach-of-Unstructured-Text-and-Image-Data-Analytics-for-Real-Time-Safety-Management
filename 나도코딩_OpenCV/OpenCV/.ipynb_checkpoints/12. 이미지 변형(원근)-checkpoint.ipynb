{
 "cells": [
  {
   "cell_type": "markdown",
   "id": "80b0848c",
   "metadata": {},
   "source": [
    "# 12. 이미지 변형 (원근)"
   ]
  },
  {
   "cell_type": "markdown",
   "id": "bcad5208",
   "metadata": {},
   "source": [
    "## 사다리꼴 이미지를 펼치기"
   ]
  },
  {
   "cell_type": "code",
   "execution_count": 2,
   "id": "d1dc9a54",
   "metadata": {},
   "outputs": [],
   "source": [
    "import cv2\n",
    "import numpy as np\n",
    "\n",
    "img = cv2.imread('newspaper.jpg')\n",
    "\n",
    "width, height = 640, 240 # 가로세로\n",
    "# input 4개의 점 (왼쪽위, 오른쪽위, 오른쪽아래, 왼쪽아래) 시계방향으로 4개의 지점 정의\n",
    "src = np.array([[511, 352], [1008,345], [1122,584], [455,594]], dtype = np.float32) \n",
    "# output 4개의 점 (왼쪽위, 오른쪽위, 오른쪽아래, 왼쪽아래)\n",
    "dst = np.array([[0,0],[width,0],[width,height],[0,height]],dtype = np.float32)\n",
    "\n",
    "matrix = cv2.getPerspectiveTransform(src,dst) # src영역을 dst 영역으로 변환하기위한 matrix 얻어옴\n",
    "result = cv2.warpPerspective(img,matrix,(width,height)) # matrix 대로 변환을 함\n",
    "\n",
    "\n",
    "\n",
    "cv2.imshow('img',img)\n",
    "cv2.imshow('result', result)\n",
    "cv2.waitKey(0)\n",
    "cv2.destroyAllWindows()"
   ]
  },
  {
   "cell_type": "markdown",
   "id": "d5d63d3b",
   "metadata": {},
   "source": [
    "## 회전된 이미지 올바로 세우기"
   ]
  },
  {
   "cell_type": "code",
   "execution_count": 3,
   "id": "cf727ee0",
   "metadata": {},
   "outputs": [],
   "source": [
    "import cv2\n",
    "import numpy as np\n",
    "\n",
    "img = cv2.imread('poker.jpg')\n",
    "\n",
    "width, height = 530, 710 # 가로 세로길이\n",
    "# input 4개의 점 (왼쪽위, 오른쪽위, 오른쪽아래, 왼쪽아래) 시계방향으로 4개의 지점 정의\n",
    "src = np.array([[702, 143], [1133,414], [726,1007], [276,700]], dtype = np.float32) \n",
    "# output 4개의 점 (왼쪽위, 오른쪽위, 오른쪽아래, 왼쪽아래)\n",
    "dst = np.array([[0,0],[width,0],[width,height],[0,height]],dtype = np.float32)\n",
    "\n",
    "matrix = cv2.getPerspectiveTransform(src,dst) # src영역을 dst 영역으로 변환하기위한 matrix 얻어옴\n",
    "result = cv2.warpPerspective(img,matrix,(width,height)) # matrix 대로 변환을 함\n",
    "\n",
    "\n",
    "\n",
    "cv2.imshow('img',img)\n",
    "cv2.imshow('result', result)\n",
    "cv2.waitKey(0)\n",
    "cv2.destroyAllWindows()"
   ]
  },
  {
   "cell_type": "markdown",
   "id": "3ebbacaa",
   "metadata": {},
   "source": [
    "## 미니 프로젝트 : 반자동 문서 스캐너 "
   ]
  },
  {
   "cell_type": "markdown",
   "id": "667429ae",
   "metadata": {},
   "source": [
    "### 마우스 이벤트 등록"
   ]
  },
  {
   "cell_type": "code",
   "execution_count": 4,
   "id": "0f73e5a8",
   "metadata": {},
   "outputs": [],
   "source": [
    "import cv2\n",
    "def mouse_handler(event,x,y,flags,param):\n",
    "    if event == cv2.EVENT_LBUTTONDOWN:\n",
    "        print('왼쪽 버튼 DOWN')\n",
    "    elif event == cv2.EVENT_LBUTTONUP:\n",
    "        print('왼쪽 버튼 up')\n",
    "\n",
    "img = cv2.imread('poker.jpg')\n",
    "cv2.namedWindow('img')  # img라는 이름의 window를 먼저 만들어 두는것. 여기에 마우스 이벤트를 처리하기 위한 핸들러 적용\n",
    "cv2.setMouseCallback('img', mouse_handler)  # img 라는 윈도우에 mouse_handler함수를 입힘\n",
    "\n",
    "cv2.imshow('img',img)\n",
    "cv2.waitKey(0)\n",
    "cv2.destroyAllWindows()"
   ]
  },
  {
   "cell_type": "code",
   "execution_count": null,
   "id": "734d6b44",
   "metadata": {},
   "outputs": [],
   "source": []
  },
  {
   "cell_type": "code",
   "execution_count": null,
   "id": "b69d17a3",
   "metadata": {},
   "outputs": [],
   "source": []
  },
  {
   "cell_type": "code",
   "execution_count": null,
   "id": "b5535098",
   "metadata": {},
   "outputs": [],
   "source": []
  },
  {
   "cell_type": "code",
   "execution_count": null,
   "id": "85045b63",
   "metadata": {},
   "outputs": [],
   "source": []
  },
  {
   "cell_type": "code",
   "execution_count": null,
   "id": "e8ae78c3",
   "metadata": {},
   "outputs": [],
   "source": []
  },
  {
   "cell_type": "code",
   "execution_count": null,
   "id": "0daf276f",
   "metadata": {},
   "outputs": [],
   "source": []
  }
 ],
 "metadata": {
  "kernelspec": {
   "display_name": "Python 3",
   "language": "python",
   "name": "python3"
  },
  "language_info": {
   "codemirror_mode": {
    "name": "ipython",
    "version": 3
   },
   "file_extension": ".py",
   "mimetype": "text/x-python",
   "name": "python",
   "nbconvert_exporter": "python",
   "pygments_lexer": "ipython3",
   "version": "3.8.5"
  }
 },
 "nbformat": 4,
 "nbformat_minor": 5
}
