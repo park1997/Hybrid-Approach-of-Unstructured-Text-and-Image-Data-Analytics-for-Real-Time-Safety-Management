{
 "cells": [
  {
   "cell_type": "markdown",
   "id": "5ab6d5eb",
   "metadata": {},
   "source": [
    "# 5. 파일저장"
   ]
  },
  {
   "cell_type": "markdown",
   "id": "2d35735b",
   "metadata": {},
   "source": [
    "## 이미지 저장"
   ]
  },
  {
   "cell_type": "code",
   "execution_count": 2,
   "id": "dbce2c5e",
   "metadata": {},
   "outputs": [
    {
     "name": "stdout",
     "output_type": "stream",
     "text": [
      "True\n"
     ]
    }
   ],
   "source": [
    "import cv2\n",
    "img = cv2.imread('img.jpg',cv2.IMREAD_GRAYSCALE)  # 흑백 사진으로 이미지 불러옴\n",
    "\n",
    "cv2.imshow('img',img)\n",
    "cv2.waitKey(0)\n",
    "cv2.destroyAllWindows()\n",
    "\n",
    "result = cv2.imwrite('img_save.jpg',img) # jpg 형태로 이미지 저장\n",
    "print(result) # 이미지가 저장이되면 True가 반환됨"
   ]
  },
  {
   "cell_type": "markdown",
   "id": "6347d264",
   "metadata": {},
   "source": [
    "## 저장 포맷(jpg, png)"
   ]
  },
  {
   "cell_type": "code",
   "execution_count": 3,
   "id": "9ccbb4b9",
   "metadata": {},
   "outputs": [
    {
     "name": "stdout",
     "output_type": "stream",
     "text": [
      "True\n"
     ]
    }
   ],
   "source": [
    "import cv2\n",
    "img = cv2.imread('img.jpg',cv2.IMREAD_GRAYSCALE)  # 흑백 사진으로 이미지 불러옴\n",
    "\n",
    "# cv2.imshow('img',img)\n",
    "# cv2.waitKey(0)\n",
    "# cv2.destroyAllWindows()\n",
    "\n",
    "result = cv2.imwrite('img_save.png',img) # png 형태로 이미지 저장\n",
    "print(result) # 이미지가 저장이되면 True가 반환됨"
   ]
  },
  {
   "cell_type": "markdown",
   "id": "dd8d6a7a",
   "metadata": {},
   "source": [
    "## 동영상 저장"
   ]
  },
  {
   "cell_type": "code",
   "execution_count": 6,
   "id": "ebb2e1cc",
   "metadata": {},
   "outputs": [
    {
     "name": "stdout",
     "output_type": "stream",
     "text": [
      "더이상 읽어올 게 없습니다\n"
     ]
    }
   ],
   "source": [
    "import cv2\n",
    "\n",
    "cap = cv2.VideoCapture('video.mp4')\n",
    "\n",
    "# 코덱 정의\n",
    "fourcc = cv2.VideoWriter_fourcc(*'DIVX') # 어떤 형태로 저장할지\n",
    "\n",
    "# 프레임 크기, FPS\n",
    "width = round(cap.get(cv2.CAP_PROP_FRAME_WIDTH)) # 너비 반환(정수여야해서 round 함수 이용)\n",
    "height = round(cap.get(cv2.CAP_PROP_FRAME_HEIGHT)) # 높이 반환\n",
    "fps = cap.get(cv2.CAP_PROP_FPS)\n",
    "# fps = cap.get(cv2.CAP_PROP_FPS) * 2  # 영상속도가 2배가 됨\n",
    "\n",
    "out = cv2.VideoWriter('output.mp4',fourcc,fps,(width,height))  # mp4형태로 저장\n",
    "# out = cv2.VideoWriter('output.avi',fourcc,fps,(width,height))  # avi 형태로 저장\n",
    "# 저장 파일명, 코덱, FPS, 크기(Width,Height)\n",
    "\n",
    "\n",
    "while cap.isOpened():\n",
    "    ret, frame = cap.read()\n",
    "    if not ret: # 동영상을 모두 읽어왔다면 ret = False 반환\n",
    "        print(\"더이상 읽어올 게 없습니다\")\n",
    "        break\n",
    "    out.write(frame) # 영상 데이터만 저장 (소리 x)\n",
    "    cv2.imshow('video',frame)\n",
    "    if cv2.waitKey(1) == ord('q'):\n",
    "        break\n",
    "out.release()  # 자원 해제 \n",
    "cap.release()  # 자원 해제\n",
    "cv2.destroyAllWindows()\n"
   ]
  }
 ],
 "metadata": {
  "kernelspec": {
   "display_name": "Python 3",
   "language": "python",
   "name": "python3"
  },
  "language_info": {
   "codemirror_mode": {
    "name": "ipython",
    "version": 3
   },
   "file_extension": ".py",
   "mimetype": "text/x-python",
   "name": "python",
   "nbconvert_exporter": "python",
   "pygments_lexer": "ipython3",
   "version": "3.8.5"
  }
 },
 "nbformat": 4,
 "nbformat_minor": 5
}
