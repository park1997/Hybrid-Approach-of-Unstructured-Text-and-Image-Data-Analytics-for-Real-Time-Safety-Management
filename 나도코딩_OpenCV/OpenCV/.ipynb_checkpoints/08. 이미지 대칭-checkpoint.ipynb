{
 "cells": [
  {
   "cell_type": "markdown",
   "id": "a283740a",
   "metadata": {},
   "source": [
    "# 8. 이미지 대칭"
   ]
  },
  {
   "cell_type": "markdown",
   "id": "4ad73b82",
   "metadata": {},
   "source": [
    "## 좌우 대칭"
   ]
  },
  {
   "cell_type": "code",
   "execution_count": 3,
   "id": "732af83f",
   "metadata": {},
   "outputs": [],
   "source": [
    "import cv2\n",
    "\n",
    "img = cv2.imread('img.jpg')\n",
    "\n",
    "flip_horizontal = cv2.flip(img,1)  # flipCode > 0 : 좌우대칭 Horizontal\n",
    "\n",
    "cv2.imshow('img',img)\n",
    "cv2.imshow('flip_Horizontal',flip_horizontal)\n",
    "\n",
    "cv2.waitKey(0)\n",
    "cv2.destroyAllWindows()\n",
    "\n"
   ]
  },
  {
   "cell_type": "markdown",
   "id": "defa2325",
   "metadata": {},
   "source": [
    "## 상하 대칭"
   ]
  },
  {
   "cell_type": "code",
   "execution_count": 4,
   "id": "7443da1f",
   "metadata": {},
   "outputs": [],
   "source": [
    "import cv2\n",
    "\n",
    "img = cv2.imread('img.jpg')\n",
    "\n",
    "flip_vertical = cv2.flip(img,0) # flipCode == 0 : 상하 대칭 vertical\n",
    "\n",
    "cv2.imshow('img',img)\n",
    "cv2.imshow('flip_vertical',flip_vertical)\n",
    "\n",
    "cv2.waitKey(0)\n",
    "cv2.destroyAllWindows()"
   ]
  },
  {
   "cell_type": "markdown",
   "id": "6d1b69e5",
   "metadata": {},
   "source": [
    "## 상하좌우 대칭"
   ]
  },
  {
   "cell_type": "code",
   "execution_count": 5,
   "id": "3f4df22f",
   "metadata": {},
   "outputs": [],
   "source": [
    "import cv2\n",
    "\n",
    "img = cv2.imread('img.jpg')\n",
    "\n",
    "flip_both = cv2.flip(img,-1) # flipCode < 0 : 상하좌우 대칭 vertical\n",
    "\n",
    "cv2.imshow('img',img)\n",
    "cv2.imshow('flip_vertical',flip_both)\n",
    "\n",
    "cv2.waitKey(0)\n",
    "cv2.destroyAllWindows()"
   ]
  }
 ],
 "metadata": {
  "kernelspec": {
   "display_name": "Python 3",
   "language": "python",
   "name": "python3"
  },
  "language_info": {
   "codemirror_mode": {
    "name": "ipython",
    "version": 3
   },
   "file_extension": ".py",
   "mimetype": "text/x-python",
   "name": "python",
   "nbconvert_exporter": "python",
   "pygments_lexer": "ipython3",
   "version": "3.8.5"
  }
 },
 "nbformat": 4,
 "nbformat_minor": 5
}
