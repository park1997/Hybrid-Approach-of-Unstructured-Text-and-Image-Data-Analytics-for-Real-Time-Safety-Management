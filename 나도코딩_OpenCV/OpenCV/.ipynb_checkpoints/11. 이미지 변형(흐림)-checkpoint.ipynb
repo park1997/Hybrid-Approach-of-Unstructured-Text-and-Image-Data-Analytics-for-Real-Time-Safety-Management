{
 "cells": [
  {
   "cell_type": "markdown",
   "id": "ea92c1de",
   "metadata": {},
   "source": [
    "# 이미지 변형(흐림)"
   ]
  },
  {
   "cell_type": "markdown",
   "id": "6b11bfd8",
   "metadata": {},
   "source": [
    "## 가우시안 블러\n",
    "이미지를 흐리게도하면서 노이즈도 줄일수있음 => 이미지 연산을 할떄 속도가 빠르게됨"
   ]
  },
  {
   "cell_type": "markdown",
   "id": "d9d44612",
   "metadata": {},
   "source": [
    "커널 사이즈 변화에 따른 흐림"
   ]
  },
  {
   "cell_type": "code",
   "execution_count": 1,
   "id": "02aef7ce",
   "metadata": {},
   "outputs": [],
   "source": [
    "import cv2\n",
    "\n",
    "img = cv2.imread('img.jpg')\n",
    "\n",
    "# (3,3), (5,5), (7,7)\n",
    "kernel_3 = cv2.GaussianBlur(img, (3,3), 0)\n",
    "kernel_5 = cv2.GaussianBlur(img, (5,5), 0)\n",
    "kernel_7 = cv2.GaussianBlur(img, (7,7), 0)\n",
    "\n",
    "cv2.imshow('img',img)\n",
    "cv2.imshow('kernel_3',kernel_3)\n",
    "cv2.imshow('kernel_5',kernel_5)\n",
    "cv2.imshow('kernel_7',kernel_7)\n",
    "\n",
    "cv2.waitKey(0)\n",
    "cv2.destroyAllWindows()"
   ]
  },
  {
   "cell_type": "markdown",
   "id": "a79e0473",
   "metadata": {},
   "source": [
    "표준 편차 변화에 따른 흐림"
   ]
  },
  {
   "cell_type": "code",
   "execution_count": 5,
   "id": "74db63be",
   "metadata": {},
   "outputs": [],
   "source": [
    "import cv2\n",
    "\n",
    "img = cv2.imread('img.jpg')\n",
    "\n",
    "\n",
    "sigma_1 = cv2.GaussianBlur(img, (0,0), 1) # sigmaX - 가우시안 커널의 x 방향의 표준편차\n",
    "sigma_2 = cv2.GaussianBlur(img, (0,0), 2)\n",
    "sigma_3 = cv2.GaussianBlur(img, (0,0), 3)\n",
    "\n",
    "cv2.imshow('img',img)\n",
    "cv2.imshow('sigma_1',sigma_1)\n",
    "cv2.imshow('sigma_2',sigma_2)\n",
    "cv2.imshow('sigma_3',sigma_3)\n",
    "\n",
    "cv2.waitKey(0)\n",
    "cv2.destroyAllWindows()"
   ]
  }
 ],
 "metadata": {
  "kernelspec": {
   "display_name": "Python 3",
   "language": "python",
   "name": "python3"
  },
  "language_info": {
   "codemirror_mode": {
    "name": "ipython",
    "version": 3
   },
   "file_extension": ".py",
   "mimetype": "text/x-python",
   "name": "python",
   "nbconvert_exporter": "python",
   "pygments_lexer": "ipython3",
   "version": "3.8.5"
  }
 },
 "nbformat": 4,
 "nbformat_minor": 5
}
