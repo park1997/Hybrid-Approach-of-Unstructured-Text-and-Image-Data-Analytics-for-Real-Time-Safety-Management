{
 "cells": [
  {
   "cell_type": "markdown",
   "id": "ec5968be",
   "metadata": {},
   "source": [
    "# 환경 설정\n",
    "Anaconda prompt\n",
    "> pip install opencv-python\n"
   ]
  },
  {
   "cell_type": "code",
   "execution_count": 1,
   "id": "46211a47",
   "metadata": {},
   "outputs": [
    {
     "data": {
      "text/plain": [
       "'4.5.5'"
      ]
     },
     "execution_count": 1,
     "metadata": {},
     "output_type": "execute_result"
    }
   ],
   "source": [
    "import cv2\n",
    "cv2.__version__"
   ]
  },
  {
   "cell_type": "markdown",
   "id": "2fcf09e1",
   "metadata": {},
   "source": [
    "# OpenCv(Computer Vision)\n",
    "다양한 영상 (이미지) / 동영상 처리에 사용되는 오픈소스 라이브러리\n"
   ]
  },
  {
   "cell_type": "markdown",
   "id": "44f51f30",
   "metadata": {},
   "source": [
    "# 1. 이미지 출력\n"
   ]
  },
  {
   "cell_type": "code",
   "execution_count": 2,
   "id": "5a467cb7",
   "metadata": {},
   "outputs": [
    {
     "name": "stdout",
     "output_type": "stream",
     "text": [
      "119\n"
     ]
    }
   ],
   "source": [
    "import cv2\n",
    "img = cv2.imread('img.jpg')# 해당 경로의 파일 읽어오기\n",
    "cv2.imshow(\"img\",img) # img 라는 이름의 창에 img를 표시\n",
    "key = cv2.waitKey(5000) # 지정된 시간동안 사용자 키 입력 대기\n",
    "print(key)\n",
    "cv2.destroyAllWindows() # 모든 창 닫기"
   ]
  },
  {
   "cell_type": "markdown",
   "id": "dc19080c",
   "metadata": {},
   "source": [
    "## 읽기 옵션\n",
    "1. cv2.IMREAD_COLOR : 컬러이미지. 투명 영역은 무시 (기본값)\n",
    "2. cv2.IMREAD_GRAYSCALE : 흑백이미지\n",
    "3. cv2.IMREAD_UNCHANGED : 투명 영역까지 포함"
   ]
  },
  {
   "cell_type": "code",
   "execution_count": 4,
   "id": "0794e3c8",
   "metadata": {},
   "outputs": [],
   "source": [
    "import cv2\n",
    "img_color = cv2.imread('img.jpg',cv2.IMREAD_COLOR)\n",
    "img_gray = cv2.imread('img.jpg',cv2.IMREAD_GRAYSCALE)\n",
    "img_unchanged = cv2.imread('img.jpg',cv2.IMREAD_UNCHANGED)\n",
    "\n",
    "cv2.imshow('img_color',img_color)\n",
    "cv2.imshow('img_gary',img_gray)\n",
    "cv2.imshow('img_unchanged',img_unchanged)\n",
    "\n",
    "cv2.waitKey(0)\n",
    "cv2.destroyAllWindows()"
   ]
  },
  {
   "cell_type": "markdown",
   "id": "a80ea118",
   "metadata": {},
   "source": [
    "## Shape\n",
    "이미지의 height, width, channel 정보"
   ]
  },
  {
   "cell_type": "code",
   "execution_count": 6,
   "id": "14b0aae1",
   "metadata": {},
   "outputs": [
    {
     "data": {
      "text/plain": [
       "(640, 613, 3)"
      ]
     },
     "execution_count": 6,
     "metadata": {},
     "output_type": "execute_result"
    }
   ],
   "source": [
    "import cv2\n",
    "img_color = cv2.imread('img.jpg')\n",
    "img.shape # 세로, 가로 , Channel"
   ]
  }
 ],
 "metadata": {
  "kernelspec": {
   "display_name": "Python 3",
   "language": "python",
   "name": "python3"
  },
  "language_info": {
   "codemirror_mode": {
    "name": "ipython",
    "version": 3
   },
   "file_extension": ".py",
   "mimetype": "text/x-python",
   "name": "python",
   "nbconvert_exporter": "python",
   "pygments_lexer": "ipython3",
   "version": "3.8.5"
  }
 },
 "nbformat": 4,
 "nbformat_minor": 5
}
