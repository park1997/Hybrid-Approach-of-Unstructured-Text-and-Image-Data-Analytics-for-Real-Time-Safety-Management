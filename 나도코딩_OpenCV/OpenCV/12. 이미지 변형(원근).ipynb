{
 "cells": [
  {
   "cell_type": "markdown",
   "id": "6624367c",
   "metadata": {},
   "source": [
    "# 12. 이미지 변형 (원근)"
   ]
  },
  {
   "cell_type": "markdown",
   "id": "73891c86",
   "metadata": {},
   "source": [
    "## 사다리꼴 이미지를 펼치기"
   ]
  },
  {
   "cell_type": "code",
   "execution_count": 2,
   "id": "b17a2c77",
   "metadata": {},
   "outputs": [],
   "source": [
    "import cv2\n",
    "import numpy as np\n",
    "\n",
    "img = cv2.imread('newspaper.jpg')\n",
    "\n",
    "width, height = 640, 240 # 가로세로\n",
    "# input 4개의 점 (왼쪽위, 오른쪽위, 오른쪽아래, 왼쪽아래) 시계방향으로 4개의 지점 정의\n",
    "src = np.array([[511, 352], [1008,345], [1122,584], [455,594]], dtype = np.float32) \n",
    "# output 4개의 점 (왼쪽위, 오른쪽위, 오른쪽아래, 왼쪽아래)\n",
    "dst = np.array([[0,0],[width,0],[width,height],[0,height]],dtype = np.float32)\n",
    "\n",
    "matrix = cv2.getPerspectiveTransform(src,dst) # src영역을 dst 영역으로 변환하기위한 matrix 얻어옴\n",
    "result = cv2.warpPerspective(img,matrix,(width,height)) # matrix 대로 변환을 함\n",
    "\n",
    "\n",
    "\n",
    "cv2.imshow('img',img)\n",
    "cv2.imshow('result', result)\n",
    "cv2.waitKey(0)\n",
    "cv2.destroyAllWindows()"
   ]
  },
  {
   "cell_type": "markdown",
   "id": "c7477e10",
   "metadata": {},
   "source": [
    "## 회전된 이미지 올바로 세우기"
   ]
  },
  {
   "cell_type": "code",
   "execution_count": 3,
   "id": "c4275050",
   "metadata": {},
   "outputs": [],
   "source": [
    "import cv2\n",
    "import numpy as np\n",
    "\n",
    "img = cv2.imread('poker.jpg')\n",
    "\n",
    "width, height = 530, 710 # 가로 세로길이\n",
    "# input 4개의 점 (왼쪽위, 오른쪽위, 오른쪽아래, 왼쪽아래) 시계방향으로 4개의 지점 정의\n",
    "src = np.array([[702, 143], [1133,414], [726,1007], [276,700]], dtype = np.float32) \n",
    "# output 4개의 점 (왼쪽위, 오른쪽위, 오른쪽아래, 왼쪽아래)\n",
    "dst = np.array([[0,0],[width,0],[width,height],[0,height]],dtype = np.float32)\n",
    "\n",
    "matrix = cv2.getPerspectiveTransform(src,dst) # src영역을 dst 영역으로 변환하기위한 matrix 얻어옴\n",
    "result = cv2.warpPerspective(img,matrix,(width,height)) # matrix 대로 변환을 함\n",
    "\n",
    "\n",
    "\n",
    "cv2.imshow('img',img)\n",
    "cv2.imshow('result', result)\n",
    "cv2.waitKey(0)\n",
    "cv2.destroyAllWindows()"
   ]
  },
  {
   "cell_type": "markdown",
   "id": "1fecd271",
   "metadata": {},
   "source": [
    "## 미니 프로젝트 : 반자동 문서 스캐너 "
   ]
  },
  {
   "cell_type": "markdown",
   "id": "187dd6de",
   "metadata": {},
   "source": [
    "### 마우스 이벤트 등록"
   ]
  },
  {
   "cell_type": "code",
   "execution_count": null,
   "id": "bf1cebc1",
   "metadata": {},
   "outputs": [
    {
     "name": "stdout",
     "output_type": "stream",
     "text": [
      "왼쪽 버튼 DOWN\n",
      "왼쪽 버튼 up\n",
      "왼쪽 버튼 DOWN\n",
      "왼쪽 버튼 up\n",
      "왼쪽 버튼 DOWN\n",
      "왼쪽 버튼 up\n"
     ]
    }
   ],
   "source": [
    "import cv2\n",
    "def mouse_handler(event,x,y,flags,param):\n",
    "    if event == cv2.EVENT_LBUTTONDOWN:\n",
    "        print('왼쪽 버튼 DOWN')\n",
    "    elif event == cv2.EVENT_LBUTTONUP:\n",
    "        print('왼쪽 버튼 up')\n",
    "\n",
    "img = cv2.imread('poker.jpg')\n",
    "cv2.namedWindow('img')  # img라는 이름의 window를 먼저 만들어 두는것. 여기에 마우스 이벤트를 처리하기 위한 핸들러 적용\n",
    "cv2.setMouseCallback('img', mouse_handler)  # img 라는 윈도우에 mouse_handler함수를 입힘\n",
    "\n",
    "cv2.imshow('img',img)\n",
    "cv2.waitKey(0)\n",
    "cv2.destroyAllWindows()"
   ]
  },
  {
   "cell_type": "code",
   "execution_count": null,
   "id": "aee3ea75",
   "metadata": {},
   "outputs": [],
   "source": []
  },
  {
   "cell_type": "code",
   "execution_count": null,
   "id": "b9cd759f",
   "metadata": {},
   "outputs": [],
   "source": []
  },
  {
   "cell_type": "code",
   "execution_count": null,
   "id": "0fb08e1c",
   "metadata": {},
   "outputs": [],
   "source": []
  },
  {
   "cell_type": "code",
   "execution_count": null,
   "id": "e87e1c23",
   "metadata": {},
   "outputs": [],
   "source": []
  },
  {
   "cell_type": "code",
   "execution_count": null,
   "id": "11ff72f3",
   "metadata": {},
   "outputs": [],
   "source": []
  },
  {
   "cell_type": "code",
   "execution_count": null,
   "id": "995d3c0f",
   "metadata": {},
   "outputs": [],
   "source": []
  }
 ],
 "metadata": {
  "kernelspec": {
   "display_name": "Python 3",
   "language": "python",
   "name": "python3"
  },
  "language_info": {
   "codemirror_mode": {
    "name": "ipython",
    "version": 3
   },
   "file_extension": ".py",
   "mimetype": "text/x-python",
   "name": "python",
   "nbconvert_exporter": "python",
   "pygments_lexer": "ipython3",
   "version": "3.8.5"
  }
 },
 "nbformat": 4,
 "nbformat_minor": 5
}
