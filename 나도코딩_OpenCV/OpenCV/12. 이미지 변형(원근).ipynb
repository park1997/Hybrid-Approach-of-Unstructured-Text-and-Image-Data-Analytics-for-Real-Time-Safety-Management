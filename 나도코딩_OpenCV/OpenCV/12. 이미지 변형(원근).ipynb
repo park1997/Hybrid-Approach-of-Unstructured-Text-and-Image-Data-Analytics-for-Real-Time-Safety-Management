{
 "cells": [
  {
   "cell_type": "markdown",
   "id": "490f5e8e",
   "metadata": {},
   "source": [
    "# 12. 이미지 변형 (원근)"
   ]
  },
  {
   "cell_type": "markdown",
   "id": "8ad62335",
   "metadata": {},
   "source": [
    "## 사다리꼴 이미지를 펼치기"
   ]
  },
  {
   "cell_type": "code",
   "execution_count": 2,
   "id": "cbfb6669",
   "metadata": {},
   "outputs": [],
   "source": [
    "import cv2\n",
    "import numpy as np\n",
    "\n",
    "img = cv2.imread('newspaper.jpg')\n",
    "\n",
    "width, height = 640, 240 # 가로세로\n",
    "# input 4개의 점 (왼쪽위, 오른쪽위, 오른쪽아래, 왼쪽아래) 시계방향으로 4개의 지점 정의\n",
    "src = np.array([[511, 352], [1008,345], [1122,584], [455,594]], dtype = np.float32) \n",
    "# output 4개의 점 (왼쪽위, 오른쪽위, 오른쪽아래, 왼쪽아래)\n",
    "dst = np.array([[0,0],[width,0],[width,height],[0,height]],dtype = np.float32)\n",
    "\n",
    "matrix = cv2.getPerspectiveTransform(src,dst) # src영역을 dst 영역으로 변환하기위한 matrix 얻어옴\n",
    "result = cv2.warpPerspective(img,matrix,(width,height)) # matrix 대로 변환을 함\n",
    "\n",
    "\n",
    "\n",
    "cv2.imshow('img',img)\n",
    "cv2.imshow('result', result)\n",
    "cv2.waitKey(0)\n",
    "cv2.destroyAllWindows()"
   ]
  },
  {
   "cell_type": "markdown",
   "id": "7d29d2d9",
   "metadata": {},
   "source": [
    "## 회전된 이미지 올바로 세우기"
   ]
  },
  {
   "cell_type": "code",
   "execution_count": 3,
   "id": "fa15f515",
   "metadata": {},
   "outputs": [],
   "source": [
    "import cv2\n",
    "import numpy as np\n",
    "\n",
    "img = cv2.imread('poker.jpg')\n",
    "\n",
    "width, height = 530, 710 # 가로 세로길이\n",
    "# input 4개의 점 (왼쪽위, 오른쪽위, 오른쪽아래, 왼쪽아래) 시계방향으로 4개의 지점 정의\n",
    "src = np.array([[702, 143], [1133,414], [726,1007], [276,700]], dtype = np.float32) \n",
    "# output 4개의 점 (왼쪽위, 오른쪽위, 오른쪽아래, 왼쪽아래)\n",
    "dst = np.array([[0,0],[width,0],[width,height],[0,height]],dtype = np.float32)\n",
    "\n",
    "matrix = cv2.getPerspectiveTransform(src,dst) # src영역을 dst 영역으로 변환하기위한 matrix 얻어옴\n",
    "result = cv2.warpPerspective(img,matrix,(width,height)) # matrix 대로 변환을 함\n",
    "\n",
    "\n",
    "\n",
    "cv2.imshow('img',img)\n",
    "cv2.imshow('result', result)\n",
    "cv2.waitKey(0)\n",
    "cv2.destroyAllWindows()"
   ]
  },
  {
   "cell_type": "markdown",
   "id": "381c463b",
   "metadata": {},
   "source": [
    "## 미니 프로젝트 : 반자동 문서 스캐너 "
   ]
  },
  {
   "cell_type": "markdown",
   "id": "135113f9",
   "metadata": {},
   "source": [
    "### 마우스 이벤트 등록"
   ]
  },
  {
   "cell_type": "code",
   "execution_count": 9,
   "id": "3406b764",
   "metadata": {},
   "outputs": [
    {
     "name": "stdout",
     "output_type": "stream",
     "text": [
      "왼쪽 버튼 DOWN\n",
      "479 583\n",
      "왼쪽 버튼 up\n",
      "479 583\n",
      "오른쪽 버튼 Down\n",
      "왼쪽 버튼 DOWN\n",
      "725 555\n",
      "왼쪽 버튼 up\n",
      "725 555\n",
      "왼쪽 버튼 DOWN\n",
      "725 555\n",
      "왼쪽 버튼 up\n",
      "725 555\n",
      "왼쪽 버튼 DOWN\n",
      "419 667\n",
      "왼쪽 버튼 up\n",
      "419 667\n",
      "왼쪽 버튼 DOWN\n",
      "419 667\n",
      "왼쪽 버튼 up\n",
      "419 667\n",
      "왼쪽 버튼 DOWN\n",
      "419 667\n",
      "왼쪽 버튼 up\n",
      "419 667\n",
      "왼쪽 버튼 DOWN\n",
      "419 667\n",
      "왼쪽 버튼 up\n",
      "419 667\n",
      "왼쪽 버튼 DOWN\n",
      "604 699\n",
      "왼쪽 버튼 up\n",
      "604 699\n",
      "왼쪽 버튼 DOWN\n",
      "604 699\n",
      "왼쪽 버튼 up\n",
      "604 699\n",
      "왼쪽 버튼 DOWN\n",
      "604 699\n",
      "왼쪽 버튼 up\n",
      "604 699\n",
      "왼쪽 버튼 DOWN\n",
      "604 699\n",
      "왼쪽 버튼 up\n",
      "604 699\n",
      "왼쪽 버튼 DOWN\n",
      "604 699\n",
      "왼쪽 버튼 up\n",
      "604 699\n",
      "왼쪽 버튼 DOWN\n",
      "604 699\n",
      "왼쪽 버튼 up\n",
      "604 699\n",
      "오른쪽 버튼 Down\n",
      "오른쪽 버튼 Down\n",
      "오른쪽 버튼 Down\n",
      "왼쪽 버튼 DOWN\n",
      "1253 541\n",
      "왼쪽 버튼 up\n",
      "1253 542\n",
      "왼쪽 버튼 DOWN\n",
      "456 616\n",
      "왼쪽 버튼 up\n",
      "460 616\n"
     ]
    }
   ],
   "source": [
    "import cv2\n",
    "def mouse_handler(event,x,y,flags,param):\n",
    "    if event == cv2.EVENT_LBUTTONDOWN:\n",
    "        print('왼쪽 버튼 DOWN')\n",
    "        print(x,y)\n",
    "    elif event == cv2.EVENT_LBUTTONUP:\n",
    "        print('왼쪽 버튼 up')\n",
    "        print(x,y)\n",
    "    elif event == cv2.EVENT_LBUTTONDBLCLK: # 마우스 왼쪽 버튼 더블 클릭\n",
    "        print(\"왼쪽 버튼 Double Click\")\n",
    "#     elif event == cv2.EVENT_MOUSEMOVE:\n",
    "#         print(\"마우스 이동\")\n",
    "    elif event == cv2.EVENT_RBUTTONDOWN:\n",
    "        print(\"오른쪽 버튼 Down\")\n",
    "    elif event == cv2.EVENT_RVUTTONUP:\n",
    "        print(\"오른쪽 버튼 UP\")\n",
    "    \n",
    "        \n",
    "        \n",
    "\n",
    "img = cv2.imread('poker.jpg')\n",
    "cv2.namedWindow('img')  # img라는 이름의 window를 먼저 만들어 두는것. 여기에 마우스 이벤트를 처리하기 위한 핸들러 적용\n",
    "cv2.setMouseCallback('img', mouse_handler)  # img 라는 윈도우에 mouse_handler함수를 입힘\n",
    "\n",
    "cv2.imshow('img',img)\n",
    "cv2.waitKey(0)\n",
    "cv2.destroyAllWindows()"
   ]
  },
  {
   "cell_type": "markdown",
   "id": "6a255b6f",
   "metadata": {},
   "source": [
    "### 프로젝트\n",
    "4개점을 클릭하면 클릭한걸 원근변환을 통해서 잘라서 가져옴"
   ]
  },
  {
   "cell_type": "code",
   "execution_count": 23,
   "id": "4bbbd54a",
   "metadata": {},
   "outputs": [],
   "source": [
    "import cv2\n",
    "import numpy as np\n",
    "\n",
    "point_list = []\n",
    "src_img = cv2.imread('poker.jpg')\n",
    "COLOR = (255,0,255)\n",
    "THICKNESS = 3\n",
    "drawling = False # 선을 그릴지 여부를 판단\n",
    "\n",
    "def mouse_handler(event,x,y,flags,param):\n",
    "    global drawling\n",
    "    dst_img = src_img.copy()\n",
    "    \n",
    "    \n",
    "    if event == cv2.EVENT_LBUTTONDOWN:\n",
    "        drawling = True # 선을 그리기 시작\n",
    "        point_list.append((x,y))\n",
    "\n",
    "    if drawling:\n",
    "        prev_point = None # 직선의 시작점\n",
    "        for point in point_list:\n",
    "            cv2.circle(dst_img, point, 15, COLOR,cv2.FILLED)\n",
    "            if prev_point: # 이전포인트가 있다면\n",
    "                cv2.line(dst_img,prev_point,point,COLOR,THICKNESS,cv2.LINE_AA) # 이전포인트랑 현재포인트랑 선을 그음\n",
    "            prev_point = point #  현재포인트는 이전포인트가 됨\n",
    "        \n",
    "        next_point = (x,y) # 현재 마우스가 있는 좌표\n",
    "        \n",
    "        if len(point_list) == 4:\n",
    "            show_result() # 결과 출력하는 함수\n",
    "            next_point = point_list[0] # 첫 번째 클릭한 지점\n",
    "        \n",
    "        # 마지막지점으로부터 현재지점을 긋는 선을 만듬\n",
    "        cv2.line(dst_img, prev_point,next_point,COLOR,THICKNESS,cv2.LINE_AA)\n",
    "        \n",
    "            \n",
    "    cv2.imshow('img',dst_img)\n",
    "\n",
    "def show_result():\n",
    "    width , height = 530,710\n",
    "    src = np.float32(point_list) # point_list 에 있는 점 위치를 가지고 float32의 array를 만듬\n",
    "    \n",
    "    # output 4개의 점 (왼쪽위, 오른쪽위, 오른쪽아래, 왼쪽아래)\n",
    "    dst = np.array([[0,0],[width,0],[width,height],[0,height]],dtype = np.float32)\n",
    "    \n",
    "    matrix = cv2.getPerspectiveTransform(src,dst) # matrix 얻어옴\n",
    "    result = cv2.warpPerspective(src_img,matrix,(width,height))\n",
    "    cv2.imshow('result',result)\n",
    "    \n",
    "    \n",
    "    \n",
    "    \n",
    "\n",
    "cv2.namedWindow('img') # img 라는 이름의 윈도우를 먼저 만들어줌.\n",
    "cv2.setMouseCallback(\"img\",mouse_handler)\n",
    "cv2.imshow('img',src_img)\n",
    "cv2.waitKey(0)\n",
    "cv2.destroyAllWindows()\n"
   ]
  },
  {
   "cell_type": "code",
   "execution_count": null,
   "id": "ba3dadd2",
   "metadata": {},
   "outputs": [],
   "source": []
  },
  {
   "cell_type": "code",
   "execution_count": null,
   "id": "be7c1664",
   "metadata": {},
   "outputs": [],
   "source": []
  },
  {
   "cell_type": "code",
   "execution_count": null,
   "id": "2ea1a162",
   "metadata": {},
   "outputs": [],
   "source": []
  },
  {
   "cell_type": "code",
   "execution_count": null,
   "id": "510ff256",
   "metadata": {},
   "outputs": [],
   "source": []
  }
 ],
 "metadata": {
  "kernelspec": {
   "display_name": "Python 3",
   "language": "python",
   "name": "python3"
  },
  "language_info": {
   "codemirror_mode": {
    "name": "ipython",
    "version": 3
   },
   "file_extension": ".py",
   "mimetype": "text/x-python",
   "name": "python",
   "nbconvert_exporter": "python",
   "pygments_lexer": "ipython3",
   "version": "3.8.5"
  }
 },
 "nbformat": 4,
 "nbformat_minor": 5
}
