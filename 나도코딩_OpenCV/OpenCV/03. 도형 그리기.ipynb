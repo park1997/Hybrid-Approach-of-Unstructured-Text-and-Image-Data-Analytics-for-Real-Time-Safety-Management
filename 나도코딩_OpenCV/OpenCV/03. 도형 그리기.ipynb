{
 "cells": [
  {
   "cell_type": "markdown",
   "id": "d104bbb4",
   "metadata": {},
   "source": [
    "# 3. 도형 그리기\n"
   ]
  },
  {
   "cell_type": "markdown",
   "id": "fef7c6b0",
   "metadata": {},
   "source": [
    "## 빈 스케치북 만들기\n"
   ]
  },
  {
   "cell_type": "code",
   "execution_count": 5,
   "id": "cc8c5aa7",
   "metadata": {},
   "outputs": [],
   "source": [
    "import cv2\n",
    "import numpy as np\n",
    "\n",
    "# 세로 480 x Rkfh 640, 3 Channel (RGB) 에 해당하는 스케치북 만들기\n",
    "img = np.zeros((480,640,3), dtype = np.uint8)\n",
    "# img[:] = (255,255,255) # 전체 공간을 흰색으로 채우기 RGB순서가아니라 BGR순서임\n",
    "\n",
    "cv2.imshow('img',img)\n",
    "cv2.waitKey(0)\n",
    "cv2.destroyAllWindows()"
   ]
  },
  {
   "cell_type": "markdown",
   "id": "457ad30c",
   "metadata": {},
   "source": [
    "## 일부 영역 색칠\n"
   ]
  },
  {
   "cell_type": "code",
   "execution_count": 6,
   "id": "de7a8036",
   "metadata": {},
   "outputs": [],
   "source": [
    "import cv2\n",
    "import numpy as np\n",
    "\n",
    "# 세로 480 x Rkfh 640, 3 Channel (RGB) 에 해당하는 스케치북 만들기\n",
    "img = np.zeros((480,640,3), dtype = np.uint8)\n",
    "img[100:200,200:300] = (255,255,255)\n",
    "# [세로 영역, 가로영역]\n",
    "\n",
    "cv2.imshow('img',img)\n",
    "cv2.waitKey(0)\n",
    "cv2.destroyAllWindows()"
   ]
  },
  {
   "cell_type": "markdown",
   "id": "b0f167f7",
   "metadata": {},
   "source": [
    "## 직선\n",
    "직선의 종류 (line type)\n",
    "\n",
    "1. cv2.LINE_4 : 상하좌우 4방향으로 연결된 선\n",
    "2. cv2.LINE_8 : 대각선을 포함한 8 방향으로 연결된 선(기본값)\n",
    "3. cv2.Line_AA : 부드러운 선(anti-aliasing)"
   ]
  },
  {
   "cell_type": "code",
   "execution_count": 9,
   "id": "c16f0f3e",
   "metadata": {},
   "outputs": [],
   "source": [
    "import cv2\n",
    "import numpy as np\n",
    "\n",
    "# 세로 480 x Rkfh 640, 3 Channel (RGB) 에 해당하는 스케치북 만들기\n",
    "img = np.zeros((480,640,3), dtype = np.uint8)\n",
    "\n",
    "COLOR = (0,255,255) #BGR: YELLOW 색\n",
    "THICKNESS = 3 # 두께\n",
    "\n",
    "cv2.line(img,(50,100),(400,50), COLOR, THICKNESS, cv2.LINE_8)\n",
    "# 그릴위치, 시작점, 끝점, 색깔 , 두께, 선종류\n",
    "cv2.line(img,(50,200),(400,150), COLOR, THICKNESS, cv2.LINE_4)\n",
    "cv2.line(img,(50,300),(400,250), COLOR, THICKNESS, cv2.LINE_AA)\n",
    "\n",
    "cv2.imshow('img',img)\n",
    "cv2.waitKey(0)\n",
    "cv2.destroyAllWindows()\n"
   ]
  },
  {
   "cell_type": "code",
   "execution_count": null,
   "id": "8b122616",
   "metadata": {},
   "outputs": [],
   "source": []
  },
  {
   "cell_type": "code",
   "execution_count": null,
   "id": "7b2c6cb2",
   "metadata": {},
   "outputs": [],
   "source": []
  },
  {
   "cell_type": "code",
   "execution_count": null,
   "id": "3a8fc0ab",
   "metadata": {},
   "outputs": [],
   "source": []
  },
  {
   "cell_type": "code",
   "execution_count": null,
   "id": "d0a88e10",
   "metadata": {},
   "outputs": [],
   "source": []
  }
 ],
 "metadata": {
  "kernelspec": {
   "display_name": "Python 3",
   "language": "python",
   "name": "python3"
  },
  "language_info": {
   "codemirror_mode": {
    "name": "ipython",
    "version": 3
   },
   "file_extension": ".py",
   "mimetype": "text/x-python",
   "name": "python",
   "nbconvert_exporter": "python",
   "pygments_lexer": "ipython3",
   "version": "3.8.5"
  }
 },
 "nbformat": 4,
 "nbformat_minor": 5
}
